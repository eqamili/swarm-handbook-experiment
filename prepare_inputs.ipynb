{
 "cells": [
  {
   "cell_type": "markdown",
   "id": "d77d9b8a-d967-4091-8662-bf95842d69c8",
   "metadata": {},
   "source": [
    "# Prepare Inputs"
   ]
  },
  {
   "cell_type": "markdown",
   "id": "44d79b98-deeb-4b81-921c-83775ed3e46f",
   "metadata": {},
   "source": [
    "This notebook fetches the external data and updates the copies stored in this repository.\n",
    "\n",
    "1. Fetch the Google Sheet containing the list of products and descriptions\n",
    "   - Store the data in `input/overview.csv`"
   ]
  },
  {
   "cell_type": "code",
   "execution_count": null,
   "id": "2e6d2130-9524-489e-a2dd-3bd3e61e530e",
   "metadata": {},
   "outputs": [],
   "source": [
    "import os\n",
    "import requests\n",
    "import pooch\n",
    "import json\n",
    "import pandas as pd\n",
    "import cdflib"
   ]
  },
  {
   "cell_type": "markdown",
   "id": "3a2b429f-801d-46e3-b553-517087e2f551",
   "metadata": {},
   "source": [
    "## Fetch Google Doc (products overview)"
   ]
  },
  {
   "cell_type": "code",
   "execution_count": null,
   "id": "8b21421c-8317-44b8-b5e3-63334b38dfa4",
   "metadata": {},
   "outputs": [],
   "source": [
    "DOC_URL = \"https://docs.google.com/spreadsheets/d/e/2PACX-1vStz17Gi-O3tJjWcT_F0zYj4eCVuiiaU9ewpKTLlu_qRak-Cd0NHG3oQa0lcVFmWC2TFK3ecZHvdPxT/pub?output=xlsx\"\n",
    "CSV_PATH = os.path.abspath(\"input/overview.csv\")"
   ]
  },
  {
   "cell_type": "code",
   "execution_count": null,
   "id": "3f50be5e-cdb2-4c69-b85b-4465b97f552b",
   "metadata": {},
   "outputs": [],
   "source": [
    "def load_google_sheet(url=DOC_URL):\n",
    "    xl_doc = requests.get(url).content\n",
    "    overview = pd.read_excel(xl_doc, \"Overview\", header=1)\n",
    "    overview = overview.set_index(\"Name\").fillna(\"-\")\n",
    "    # names = list(overview.index.dropna())\n",
    "    # details = {}\n",
    "    # missing_sheets = []\n",
    "    # for name in names:\n",
    "    #     try:\n",
    "    #         details[name] = pd.read_excel(xl_doc, name).set_index(\"FIELD\", drop=False).fillna(\"-\")\n",
    "    #     except Exception:\n",
    "    #         missing_sheets.append(name)\n",
    "    #         details[name] = pd.DataFrame()\n",
    "    return overview"
   ]
  },
  {
   "cell_type": "code",
   "execution_count": null,
   "id": "18786d86-67eb-46ec-b4b2-e0ea8f054b6f",
   "metadata": {},
   "outputs": [],
   "source": [
    "overview = load_google_sheet(DOC_URL)"
   ]
  },
  {
   "cell_type": "code",
   "execution_count": null,
   "id": "7f684258-4406-4383-9e58-957b2a34332a",
   "metadata": {},
   "outputs": [],
   "source": [
    "overview.head()"
   ]
  },
  {
   "cell_type": "code",
   "execution_count": null,
   "id": "0b7e4af0-e3d2-49b5-845d-abbb5b51995a",
   "metadata": {},
   "outputs": [],
   "source": [
    "overview.to_csv(CSV_PATH)"
   ]
  },
  {
   "cell_type": "markdown",
   "id": "7693eb54-1b2e-40a4-af65-c822c8bcc054",
   "metadata": {},
   "source": [
    "## Fetch VirES `product_types.json` (tables of metadata for variables in products)"
   ]
  },
  {
   "cell_type": "code",
   "execution_count": null,
   "id": "a8459009-127b-41f5-9ec5-97a268406b1f",
   "metadata": {},
   "outputs": [],
   "source": [
    "PRODUCT_TYPES_URL = \"https://raw.githubusercontent.com/ESA-VirES/VirES-Server/staging/vires/vires/data/product_types.json\""
   ]
  },
  {
   "cell_type": "code",
   "execution_count": null,
   "id": "2b7ed94c-400c-43d0-8ef3-59738d1b72f7",
   "metadata": {},
   "outputs": [],
   "source": [
    "def load_product_types_json(url=PRODUCT_TYPES_URL):\n",
    "    json_content = json.loads(\n",
    "        requests.get(url).content\n",
    "    )\n",
    "    names = [content[\"name\"] for content in json_content]\n",
    "    product_metadata = {}\n",
    "    for name, product_content in zip(names, json_content):\n",
    "        product_metadata[name] = product_content\n",
    "    return product_metadata"
   ]
  },
  {
   "cell_type": "code",
   "execution_count": null,
   "id": "bf831c30-70e7-4596-b032-0bbca2a48d35",
   "metadata": {},
   "outputs": [],
   "source": [
    "product_metadata = load_product_types_json(PRODUCT_TYPES_URL)"
   ]
  },
  {
   "cell_type": "code",
   "execution_count": null,
   "id": "e8d02e55-376c-4353-b64c-22c48e0fe44d",
   "metadata": {
    "tags": []
   },
   "outputs": [],
   "source": [
    "# Mapping between names used in json file and our csv\n",
    "names_short_to_long = {\n",
    "    \"MODx_SC_1B\": 'SW_MODx_SC_1B',\n",
    "    \"MAGx_LR_1B\": 'SW_MAGx_LR_1B',\n",
    "    \"MAGx_HR_1B\": 'SW_MAGx_HR_1B',\n",
    "    \"EFIx_LP_1B\": 'SW_EFIx_LP_1B',\n",
    "    \"IBIxTMS_2F\": 'SW_IBIxTMS_2F',\n",
    "    \"EEFxTMS_2F\": 'SW_EEFxTMS_2F',\n",
    "    \"FACxTMS_2F\": 'SW_FACxTMS_2F',\n",
    "    \"TECxTMS_2F\": 'SW_TECxTMS_2F',\n",
    "    \"IPDxIRR_2F\": 'SW_IPDxIRR_2F',\n",
    "    # \"\": 'SW_AUX_IMF_2_',\n",
    "    # \"AEJxLPL_2F\": 'SW_AEJxLPL_2F',\n",
    "    # \"AEJxPBL_2F\": 'SW_AEJxPBL_2F',\n",
    "    # \"AEJxLPS_2F\": 'SW_AEJxLPS_2F',\n",
    "    # \"AEJxPBS_2F\": 'SW_AEJxPBS_2F',\n",
    "    # \"AOBxFAC_2F\": 'SW_AOBxFAC_2F',\n",
    "    # \"MITx_LP_2F\": 'SW_MITx_LP_2F',\n",
    "    # \"MITxTEC_2F\": 'SW_MITxTEC_2F',\n",
    "    # \"PPIxFAC_2F\": 'SW_PPIxFAC_2F',\n",
    "    # \"\": 'OMNI_HR_1min',\n",
    "    # \"AUX_OBSS2_\": 'SW_AUX_OBSx2_',\n",
    "    # \"AUX_OBSM2_\": 'SW_AUX_OBSx2_',\n",
    "    # \"AUX_OBSH2_\": 'SW_AUX_OBSH2_',\n",
    "    # \"VOBS_1M_2_\": 'SW_VOBS_xM_2_',\n",
    "    # \"VOBS_4M_2_\": 'SW_VOBS_xM_2_',\n",
    "    # \"\": 'GRACE_x_MAG',\n",
    "    # \"\": 'GFx_FGM_ACAL',\n",
    "    # \"\": 'CS_MAG'\n",
    "}"
   ]
  },
  {
   "cell_type": "code",
   "execution_count": null,
   "id": "547a806b-1efa-4153-a361-874046e18d14",
   "metadata": {},
   "outputs": [],
   "source": [
    "# Each collection can contain subcollections\n",
    "for name, content in product_metadata.items():\n",
    "    print(content[\"datasets\"].keys())"
   ]
  },
  {
   "cell_type": "code",
   "execution_count": null,
   "id": "69943ada-2e01-4e9e-9002-c65dd0b10ad1",
   "metadata": {},
   "outputs": [],
   "source": []
  }
 ],
 "metadata": {
  "kernelspec": {
   "display_name": "Python [conda env:handbook]",
   "language": "python",
   "name": "conda-env-handbook-py"
  },
  "language_info": {
   "codemirror_mode": {
    "name": "ipython",
    "version": 3
   },
   "file_extension": ".py",
   "mimetype": "text/x-python",
   "name": "python",
   "nbconvert_exporter": "python",
   "pygments_lexer": "ipython3",
   "version": "3.8.12"
  }
 },
 "nbformat": 4,
 "nbformat_minor": 5
}
